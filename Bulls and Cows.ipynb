{
 "cells": [
  {
   "cell_type": "markdown",
   "metadata": {},
   "source": [
    "# Implementation of Bulls and Cows\n",
    "An interesting little problem used in a previous AQA GCSE Computer Science Controlled Assessment.\n",
    "Implemented here as a learning tool/step through guide. [Wikipedia page for the game](https://en.wikipedia.org/wiki/Bulls_and_Cows)"
   ]
  },
  {
   "cell_type": "markdown",
   "metadata": {},
   "source": [
    "## Try it out\n",
    "Run the cell below to run the final code to see what we are aiming for."
   ]
  },
  {
   "cell_type": "code",
   "execution_count": null,
   "metadata": {},
   "outputs": [],
   "source": [
    "import final_code\n",
    "final_code.mainProgram()"
   ]
  },
  {
   "cell_type": "markdown",
   "metadata": {},
   "source": [
    "## The problems to solve\n",
    "1. Create a randomly-generated four-digit number, each digit being between 0 and 9, each digit being unique.\n",
    "2. The player is prompted for an entry\n",
    "3. If entry is 'exit' then the random number is shown and the program ends\n",
    "4. If the entry is not 'exit' then the value entered must be checked that it is exactly four digits and an appropriate error message shown if not.\n",
    "5. If the entry is not 'exit' then the value enteres must be checked for repeated digits and an appropriate error message shown if they are found.\n",
    "6. Step 2 should be repeated until valid input is received.\n",
    "7. If a digit in the entered value matches a digit in the randomly generated number and is in the same position then one bull is counted.\n",
    "8. If a digit in the entered value matches a digit in the randomly generated number and is not in the same position then one cow is counted.\n",
    "9. An appropriate messages should be displayed giving the number of bulls and cows.\n",
    "10. steps 2-9 are repeated until the randomly generated number is entered  correctly. \n",
    "11. A success message and number of guesses should be displayed. "
   ]
  },
  {
   "cell_type": "markdown",
   "metadata": {},
   "source": [
    "## Main program loop\n",
    "### Task 2, 3 (partial), 10 (partial) \n",
    "The approach to solving this problem will be to wrap the program in a main program loop with the exit criteria being the user entering 'exit' at the prompt *or* the user entering the correct number (which will be added at a later point). As this will repeat an unknown amount of times, but at least once, we will use a **repeat** loop."
   ]
  },
  {
   "cell_type": "code",
   "execution_count": null,
   "metadata": {},
   "outputs": [],
   "source": [
    "def mainProgram():\n",
    "    while True: #Python's answer to the repeat loop\n",
    "        entry = input('Input \\'exit\\' or your 4-digit attempt: ') #Get the user's input\n",
    "        if entry == 'exit': #They've chosen to exit\n",
    "            print('Quitting. Bye.')\n",
    "            break #Leave the loop"
   ]
  },
  {
   "cell_type": "code",
   "execution_count": null,
   "metadata": {},
   "outputs": [],
   "source": [
    "mainProgram()"
   ]
  },
  {
   "cell_type": "markdown",
   "metadata": {},
   "source": [
    "## Generating the number\n",
    "There are a number of ways this could be done. The initial way most students tend to approach this is to generate a random number between 0 and 9999. This of course then needs checking as it could (a) leave number less than 4 digits, (b) drop leading zeroes and (c) produce duplicate digits. The random.sample() function, however, solves all these problems for us! Keeping the 'number' as a string also gets rid of the leading 0 issue and allows positional access to the digits.\n",
    "\n",
    "### Task 1 (completed)"
   ]
  },
  {
   "cell_type": "code",
   "execution_count": null,
   "metadata": {},
   "outputs": [],
   "source": [
    "import random #We need to use the random library\n",
    "\n",
    "def generateNumber():\n",
    "    digits = ['0','1','2','3','4','5','6','7','8','9'] #List the digits we will be using\n",
    "    sample = random.sample(digits,4)\n",
    "    results = ''.join(sample)\n",
    "    return results\n",
    "\n",
    "#Alternatively this can be reduced to a single line.\n",
    "#There's probably a set method of generating the 10 digits but I prefer readability over\n",
    "#shortness of code sometimes!\n",
    "def generateNumberOneLine():\n",
    "    return ''.join(random.sample(['0','1','2','3','4','5','6','7','8','9'],4))"
   ]
  },
  {
   "cell_type": "code",
   "execution_count": null,
   "metadata": {},
   "outputs": [],
   "source": [
    "print (generateNumber())\n",
    "print (generateNumberOneLine())"
   ]
  },
  {
   "cell_type": "markdown",
   "metadata": {},
   "source": [
    "Now we will need to add the call to generateNumber() into our main program\n",
    "\n",
    "### Task 3 (completed), 10 (completed), 11 (partial)"
   ]
  },
  {
   "cell_type": "code",
   "execution_count": null,
   "metadata": {},
   "outputs": [],
   "source": [
    "def mainProgram():\n",
    "    randomNumber = generateNumber()\n",
    "    while True: #Python's answer to the repeat loop\n",
    "        entry = input('Input \\'exit\\' or your 4-digit attempt: ') #Get the user's input\n",
    "        if entry == 'exit': #They've chosen to exit\n",
    "            print('The random number was',randomNumber)\n",
    "            print('Quitting. Bye.')\n",
    "            break #Leave the loop\n",
    "        if entry == randomNumber: #They got it right\n",
    "            print('Correct, well done!')\n",
    "            break #Leave the loop"
   ]
  },
  {
   "cell_type": "code",
   "execution_count": null,
   "metadata": {},
   "outputs": [],
   "source": [
    "mainProgram()"
   ]
  },
  {
   "cell_type": "markdown",
   "metadata": {},
   "source": [
    "## Checking the input\n",
    "We need to check the entry for length and that it contains unique digits. While we're at it we should probably check that the entry is an actual integer number rather than text and/or floats!\n",
    "\n",
    "Length is an easy check:"
   ]
  },
  {
   "cell_type": "code",
   "execution_count": null,
   "metadata": {},
   "outputs": [],
   "source": [
    "def checkLength(tocheck):\n",
    "    if len(tocheck) == 4: #Check the length\n",
    "        return True\n",
    "    else:\n",
    "        print('Sorry, this entry is not four digits.')\n",
    "        return False"
   ]
  },
  {
   "cell_type": "code",
   "execution_count": null,
   "metadata": {},
   "outputs": [],
   "source": [
    "print(checkLength('1234'))\n",
    "print(checkLength('Too long'))"
   ]
  },
  {
   "cell_type": "markdown",
   "metadata": {},
   "source": [
    "Probably the easiest way to check the user has entered and integer is to try and convert it to an integer and catch any errors"
   ]
  },
  {
   "cell_type": "code",
   "execution_count": null,
   "metadata": {},
   "outputs": [],
   "source": [
    "def checkInt(tocheck):\n",
    "    try:\n",
    "        intEntry = int(tocheck) #Convert to integer\n",
    "    except:\n",
    "        print('Sorry, this entry consists of something other than digits')\n",
    "        return False #Error so it wasn't an integer\n",
    "    return True #No error so must be"
   ]
  },
  {
   "cell_type": "code",
   "execution_count": null,
   "metadata": {},
   "outputs": [],
   "source": [
    "print(checkInt('1234'))\n",
    "print(checkInt('abcd'))\n",
    "print(checkInt('12.3'))"
   ]
  },
  {
   "cell_type": "markdown",
   "metadata": {},
   "source": [
    "Checking for unique digits is a little harder. Thankfully we are actually dealing with strings here so we can iterate through the list a character at a time and use the count() function to check how many times each one appears. If any result is not 1, we have a problem!"
   ]
  },
  {
   "cell_type": "code",
   "execution_count": null,
   "metadata": {},
   "outputs": [],
   "source": [
    "def checkUnique(tocheck):\n",
    "    for char in tocheck:\n",
    "        if tocheck.count(char) != 1:\n",
    "            print('Sorry, this entry has duplicate entries')\n",
    "            return False\n",
    "    return True"
   ]
  },
  {
   "cell_type": "code",
   "execution_count": null,
   "metadata": {},
   "outputs": [],
   "source": [
    "print(checkUnique('abcd'))\n",
    "print(checkUnique('abbc'))"
   ]
  },
  {
   "cell_type": "markdown",
   "metadata": {},
   "source": [
    "Now we need to embed this into our main program loop\n",
    "\n",
    "### Task 4 (completed), 5 (completed), 6 (completed)"
   ]
  },
  {
   "cell_type": "code",
   "execution_count": null,
   "metadata": {},
   "outputs": [],
   "source": [
    "def mainProgram():\n",
    "    randomNumber = generateNumber()\n",
    "    while True: #Python's answer to the repeat loop\n",
    "        entry = input('Input \\'exit\\' or your 4-digit attempt: ') #Get the user's input\n",
    "        if entry == 'exit': #They've chosen to exit\n",
    "            print('The random number was',randomNumber)\n",
    "            print('Quitting. Bye.')\n",
    "            break #Leave the loop\n",
    "        if entry == randomNumber: #They got it right\n",
    "            print('Correct, well done!')\n",
    "            break #Leave the loop        if checkLength(entry) and checkInt(entry) and checkUnique(entry):\n",
    "            pass #The entry is valid, our codee will go here.\n",
    "        else:\n",
    "            print('Please try again') #Invalid entry, prompt for repeat"
   ]
  },
  {
   "cell_type": "code",
   "execution_count": null,
   "metadata": {},
   "outputs": [],
   "source": [
    "mainProgram()"
   ]
  },
  {
   "cell_type": "markdown",
   "metadata": {},
   "source": [
    "## Checking for Bulls\n",
    "Checking for bulls is fairly easy - we could check inputnumber[0] == randomnumber[0] and type that out four times for four digits, but I'm never one to avoid use of a loop so this method will run through each index. There's no real advantage here!"
   ]
  },
  {
   "cell_type": "code",
   "execution_count": null,
   "metadata": {},
   "outputs": [],
   "source": [
    "def checkBulls(toCheck,randomNumber):\n",
    "    numBulls = 0\n",
    "    for i in range(4):\n",
    "        if toCheck[i] == randomNumber[i]:\n",
    "            numBulls+=1\n",
    "    return numBulls"
   ]
  },
  {
   "cell_type": "code",
   "execution_count": null,
   "metadata": {},
   "outputs": [],
   "source": [
    "print(checkBulls('1234','5236'))"
   ]
  },
  {
   "cell_type": "markdown",
   "metadata": {},
   "source": [
    "### Task 7 (completed), 9 (partial)\n",
    "Now we just need to embed that into our main program loop:"
   ]
  },
  {
   "cell_type": "code",
   "execution_count": null,
   "metadata": {},
   "outputs": [],
   "source": [
    "def mainProgram():\n",
    "    randomNumber = generateNumber()\n",
    "    while True: #Python's answer to the repeat loop\n",
    "        #print(randomNumber) #Comment/uncomment to hide/show the number we're trying to guess!\n",
    "        entry = input('Input \\'exit\\' or your 4-digit attempt: ') #Get the user's input\n",
    "        if entry == 'exit': #They've chosen to exit\n",
    "            print('The random number was',randomNumber)\n",
    "            print('Quitting. Bye.')\n",
    "            break #Leave the loop\n",
    "        if entry == randomNumber: #They got it right\n",
    "            print('Correct, well done!')\n",
    "            break #Leave the loop\n",
    "        if checkLength(entry) and checkInt(entry) and checkUnique(entry):\n",
    "            numBulls = checkBulls(entry,randomNumber)\n",
    "            print('You have found',numBulls,'bulls.')\n",
    "        else:\n",
    "            print('Please try again') #Invalid entry, prompt for repeat"
   ]
  },
  {
   "cell_type": "code",
   "execution_count": null,
   "metadata": {},
   "outputs": [],
   "source": [
    "mainProgram()"
   ]
  },
  {
   "cell_type": "markdown",
   "metadata": {},
   "source": [
    "## Checking for Cows\n",
    "This is a little harder. We already know how to use count() to check if a sub-string appears in a string, but this will check all matches *including* matches that are bulls. So we will need to take away the number of bulls from the overall number of matches."
   ]
  },
  {
   "cell_type": "code",
   "execution_count": null,
   "metadata": {},
   "outputs": [],
   "source": [
    "def checkCows(toCheck,randomNumber,numBulls):\n",
    "    numCows = 0\n",
    "    for digit in toCheck:\n",
    "        numCows += randomNumber.count(digit)\n",
    "    numCows = numCows - numBulls\n",
    "    return numCows"
   ]
  },
  {
   "cell_type": "code",
   "execution_count": null,
   "metadata": {},
   "outputs": [],
   "source": [
    "print(checkCows('1234','3215',1))"
   ]
  },
  {
   "cell_type": "markdown",
   "metadata": {},
   "source": [
    "### Task 8 (completed), 9 (completed)\n",
    "Now we need to add to our main program loop"
   ]
  },
  {
   "cell_type": "code",
   "execution_count": null,
   "metadata": {},
   "outputs": [],
   "source": [
    "def mainProgram():\n",
    "    randomNumber = generateNumber()\n",
    "    while True: #Python's answer to the repeat loop\n",
    "        print(randomNumber) #Comment/uncomment to hide/show the number we're trying to guess!\n",
    "        entry = input('Input \\'exit\\' or your 4-digit attempt: ') #Get the user's input\n",
    "        if entry == 'exit': #They've chosen to exit\n",
    "            print('The random number was',randomNumber)\n",
    "            print('Quitting. Bye.')\n",
    "            break #Leave the loop\n",
    "        if entry == randomNumber: #They got it right\n",
    "            print('Correct, well done!')\n",
    "            break #Leave the loop\n",
    "        if checkLength(entry) and checkInt(entry) and checkUnique(entry):\n",
    "            numBulls = checkBulls(entry,randomNumber)\n",
    "            numCows = checkCows(entry,randomNumber,numBulls)\n",
    "            print('You have found',numBulls,'bulls.')\n",
    "            print('You have found',numCows,'cows.')\n",
    "        else:\n",
    "            print('Please try again') #Invalid entry, prompt for repeat"
   ]
  },
  {
   "cell_type": "code",
   "execution_count": null,
   "metadata": {},
   "outputs": [],
   "source": [
    "mainProgram()"
   ]
  },
  {
   "cell_type": "markdown",
   "metadata": {},
   "source": [
    "## Number of guesses and we're done\n",
    "We just need to add a guess counter initialised to 0, incremented on every guess (and for fairness decremented on a mis-guess), and output at the end\n",
    "### Task 11 (completed)"
   ]
  },
  {
   "cell_type": "code",
   "execution_count": null,
   "metadata": {},
   "outputs": [],
   "source": [
    "def mainProgram():\n",
    "    numGuesses = 0\n",
    "    randomNumber = generateNumber()\n",
    "    while True: #Python's answer to the repeat loop\n",
    "        #print(randomNumber) #Comment/uncomment to hide/show the number we're trying to guess!\n",
    "        entry = input('Input \\'exit\\' or your 4-digit attempt: ') #Get the user's input\n",
    "        numGuesses += 1\n",
    "        if entry == 'exit': #They've chosen to exit\n",
    "            print('The random number was',randomNumber)\n",
    "            print('Quitting. Bye.')\n",
    "            break #Leave the loop\n",
    "        if entry == randomNumber: #They got it right\n",
    "            print('Correct, well done!')\n",
    "            print('You took',numGuesses,'guesses.')\n",
    "            break #Leave the loop\n",
    "        if checkLength(entry) and checkInt(entry) and checkUnique(entry):\n",
    "            numBulls = checkBulls(entry,randomNumber)\n",
    "            numCows = checkCows(entry,randomNumber,numBulls)\n",
    "            print('You have found',numBulls,'bulls.')\n",
    "            print('You have found',numCows,'cows.')\n",
    "        else:\n",
    "            print('Please try again') #Invalid entry, prompt for repeat\n",
    "            numGuesses -= 1"
   ]
  },
  {
   "cell_type": "code",
   "execution_count": null,
   "metadata": {},
   "outputs": [],
   "source": [
    "mainProgram()"
   ]
  }
 ],
 "metadata": {
  "kernelspec": {
   "display_name": "Python 3",
   "language": "python",
   "name": "python3"
  },
  "language_info": {
   "codemirror_mode": {
    "name": "ipython",
    "version": 3
   },
   "file_extension": ".py",
   "mimetype": "text/x-python",
   "name": "python",
   "nbconvert_exporter": "python",
   "pygments_lexer": "ipython3",
   "version": "3.7.1"
  }
 },
 "nbformat": 4,
 "nbformat_minor": 2
}
